{
 "cells": [
  {
   "cell_type": "markdown",
   "metadata": {},
   "source": [
    "# Python 101\n",
    "Introduction to Python / Python reference\n",
    "\n",
    "This has been written specifically for Python 2.7\n",
    "\n",
    "You can find the official Python documentation here: https://docs.python.org/2.7/"
   ]
  },
  {
   "cell_type": "markdown",
   "metadata": {},
   "source": [
    "## Contents\n",
    "    0. Hello, world!\n",
    "    1. Variables & Types\n",
    "        1.1 Numbers\n",
    "        1.2 Strings\n",
    "        1.3 Booleans\n",
    "        1.4 Lists\n",
    "        1.5 Dictionaries\n",
    "    2. Comparisons\n",
    "        2.1 If/Else\n",
    "        2.2 Comparison Operators\n",
    "        2.3 Ternary Operators\n",
    "    3. Loops\n",
    "        3.1 For Loops\n",
    "        3.2 While Loops\n",
    "        3.3 Other Iterables\n",
    "    4. Functions\n",
    "        4.1 Declaring Functions\n",
    "        4.2 Parameters\n",
    "        4.3 Default parameters\n",
    "        4.4 Recursion\n",
    "    5. Libraries\n",
    "        5.1 Importing Modules\n",
    "        5.2 Local/Custom Modules\n",
    "        5.3 External Dependencies\n",
    "    6. Miscellaneous\n",
    "        6.1 Exceptions\n",
    "        6.2 Reading and Writing to Files\n",
    "        6.3 Data Visualisation\n",
    "        6.4 HTTP Requests\n",
    "        6.5 Numpy"
   ]
  },
  {
   "cell_type": "markdown",
   "metadata": {},
   "source": [
    "## 0. Hello, world!\n",
    "Welcome to the Python 101 for A.I.Camp! This will give you a crash course in the basics of Python, getting you set up with all you need to know before we start getting into machine learning!\n",
    "\n",
    "You can also use this as a reference when you need help with syntax.\n",
    "\n",
    "Let's start with a basic \"Hello, world!\"\n",
    "\n",
    "*Hint: In Jupyter Notebooks, you can click on a piece of code and hit **shift+enter** to run it! Any output will be displayed below the code.*"
   ]
  },
  {
   "cell_type": "code",
   "execution_count": null,
   "metadata": {},
   "outputs": [],
   "source": [
    "print ('Hello, world!')"
   ]
  },
  {
   "cell_type": "markdown",
   "metadata": {},
   "source": [
    "While we're at it, comments in Python use the hash (#) symbol."
   ]
  },
  {
   "cell_type": "code",
   "execution_count": null,
   "metadata": {},
   "outputs": [],
   "source": [
    "# I'm a comment!"
   ]
  },
  {
   "cell_type": "markdown",
   "metadata": {},
   "source": [
    "## 1. Variables & Types\n",
    "The five main variable types we'll look at are:\n",
    "- **Numbers** (ints, floats)\n",
    "- **Strings**\n",
    "- **Booleans** (true/false)\n",
    "- **Lists** (known as arrays in other languages)\n",
    "- **Dictionaries** (similar to objects in other languages)\n",
    "\n",
    "Python is dynamically typed, meaning variables are declared **without** specifying a type."
   ]
  },
  {
   "cell_type": "code",
   "execution_count": null,
   "metadata": {},
   "outputs": [],
   "source": [
    "number_example = 101\n",
    "string_example = 'A.I. is coool'\n",
    "boolean_example = True\n",
    "list_example = [2, 4, 6, 8]\n",
    "dictionary_example = {\n",
    "    'id': 1,\n",
    "    'colour': 'yellow'\n",
    "}"
   ]
  },
  {
   "cell_type": "markdown",
   "metadata": {},
   "source": [
    "To find out a variable's type, we run the `type` function on it:"
   ]
  },
  {
   "cell_type": "code",
   "execution_count": null,
   "metadata": {},
   "outputs": [],
   "source": [
    "print (type(number_example))\n",
    "print (type(string_example))"
   ]
  },
  {
   "cell_type": "markdown",
   "metadata": {},
   "source": [
    "An object's type can also be changed after it is created:"
   ]
  },
  {
   "cell_type": "code",
   "execution_count": null,
   "metadata": {},
   "outputs": [],
   "source": [
    "# Set a to be a number\n",
    "a = 1\n",
    "print (type(a))\n",
    "\n",
    "# Set a to be a string\n",
    "a = 'Test'\n",
    "print (type(a))"
   ]
  },
  {
   "cell_type": "markdown",
   "metadata": {},
   "source": [
    "### 1.1 Numbers"
   ]
  },
  {
   "cell_type": "markdown",
   "metadata": {},
   "source": [
    "When we talk about numbers in Python, we generally mean integers, but it could also mean floats."
   ]
  },
  {
   "cell_type": "code",
   "execution_count": null,
   "metadata": {},
   "outputs": [],
   "source": [
    "a = 3\n",
    "print (a)\n",
    "print (type(a))\n",
    "\n",
    "b = 1.5\n",
    "print (b)\n",
    "print (type(b))"
   ]
  },
  {
   "cell_type": "markdown",
   "metadata": {},
   "source": [
    "#### Operators\n",
    "Numbers can be manipulated with several standard mathematical operations."
   ]
  },
  {
   "cell_type": "code",
   "execution_count": null,
   "metadata": {},
   "outputs": [],
   "source": [
    "print (a + 1)  # Addition\n",
    "print (a - 4)  # Subtraction\n",
    "print (a * 5)  # Multiplication\n",
    "print (a / 3)  # Division\n",
    "print (a ** 2) # Exponentiation\n",
    "print (a % 2)  # Modulus"
   ]
  },
  {
   "cell_type": "markdown",
   "metadata": {},
   "source": [
    "There's no `x++` in Python. Instead, we can do `x += 1`."
   ]
  },
  {
   "cell_type": "code",
   "execution_count": null,
   "metadata": {},
   "outputs": [],
   "source": [
    "b = 5\n",
    "b += 1\n",
    "print (b)"
   ]
  },
  {
   "cell_type": "markdown",
   "metadata": {},
   "source": [
    "#### Casting\n",
    "An integer can be cast as a float and vice versa. Simply pass the integer into the `float` function."
   ]
  },
  {
   "cell_type": "code",
   "execution_count": null,
   "metadata": {},
   "outputs": [],
   "source": [
    "print (float(20))"
   ]
  },
  {
   "cell_type": "markdown",
   "metadata": {},
   "source": [
    "Python quirk: If you divide two integers, the result will be an integer..."
   ]
  },
  {
   "cell_type": "code",
   "execution_count": null,
   "metadata": {},
   "outputs": [],
   "source": [
    "a = 5\n",
    "b = 2\n",
    "print (a / b)"
   ]
  },
  {
   "cell_type": "markdown",
   "metadata": {},
   "source": [
    "To get around this, we can cast one of the integers to a float. This will force the result to also be a float."
   ]
  },
  {
   "cell_type": "code",
   "execution_count": null,
   "metadata": {},
   "outputs": [],
   "source": [
    "print (float(a) / b)"
   ]
  },
  {
   "cell_type": "markdown",
   "metadata": {},
   "source": [
    "#### Formatting\n",
    "Sometimes when printing a float, we want to format it in a specific way - e.g. currencies typically are written to two decimal places. Use the following syntax to format a float:"
   ]
  },
  {
   "cell_type": "code",
   "execution_count": null,
   "metadata": {},
   "outputs": [],
   "source": [
    "d = 2.543\n",
    "print ('{:.2f}'.format(d)) # Print d to two decimal places"
   ]
  },
  {
   "cell_type": "markdown",
   "metadata": {},
   "source": [
    "** Random **\n",
    "\n",
    "Python makes it very easy to generate random numbers. Below is the syntax for generating an int between 1 and 6 (inclusive)."
   ]
  },
  {
   "cell_type": "code",
   "execution_count": null,
   "metadata": {},
   "outputs": [],
   "source": [
    "import random\n",
    "dice_value = random.randint(1, 6)\n",
    "print (dice_value)"
   ]
  },
  {
   "cell_type": "markdown",
   "metadata": {},
   "source": [
    "More commonly, you may need to generate a random float between 0 and 1:"
   ]
  },
  {
   "cell_type": "code",
   "execution_count": null,
   "metadata": {},
   "outputs": [],
   "source": [
    "r = random.random()\n",
    "print (r)"
   ]
  },
  {
   "cell_type": "markdown",
   "metadata": {},
   "source": [
    "### 1.2 Strings"
   ]
  },
  {
   "cell_type": "markdown",
   "metadata": {},
   "source": [
    "Strings in Python can use either single (') or double (\") quotes. Normally developers use single quotes, but whatever you choose - stick with it and be consistent!"
   ]
  },
  {
   "cell_type": "code",
   "execution_count": null,
   "metadata": {},
   "outputs": [],
   "source": [
    "s = 'Kainos'\n",
    "s2 = \"Kainos\"\n",
    "\n",
    "print (type(s))\n",
    "print (type(s2))"
   ]
  },
  {
   "cell_type": "markdown",
   "metadata": {},
   "source": [
    "To get the length of a string, we can use the `len` function:"
   ]
  },
  {
   "cell_type": "code",
   "execution_count": null,
   "metadata": {},
   "outputs": [],
   "source": [
    "print (s)\n",
    "print (len(s))"
   ]
  },
  {
   "cell_type": "markdown",
   "metadata": {},
   "source": [
    "#### Appending strings\n",
    "Strings can be appended using the `+` operator:"
   ]
  },
  {
   "cell_type": "code",
   "execution_count": null,
   "metadata": {},
   "outputs": [],
   "source": [
    "base_string = 'The string is: '\n",
    "keyword = 'A.I.'\n",
    "\n",
    "print (base_string + keyword)"
   ]
  },
  {
   "cell_type": "markdown",
   "metadata": {},
   "source": [
    "However, there is a more preferred/safer way to do this using the `%s` and `%` format to insert strings into other strings. For example:"
   ]
  },
  {
   "cell_type": "code",
   "execution_count": null,
   "metadata": {},
   "outputs": [],
   "source": [
    "base_string = 'The string is: %s' # %s signifies where to insert a string\n",
    "keyword = 'A.I.'\n",
    "\n",
    "print (base_string % keyword)"
   ]
  },
  {
   "cell_type": "markdown",
   "metadata": {},
   "source": [
    "New lines can be inserted with `\\n`"
   ]
  },
  {
   "cell_type": "code",
   "execution_count": null,
   "metadata": {},
   "outputs": [],
   "source": [
    "print ('Hello\\nNew line')"
   ]
  },
  {
   "cell_type": "markdown",
   "metadata": {},
   "source": [
    "**Numbers and strings**\n",
    "\n",
    "Variables of differing types typically can't be appended to one another. Int the case of numbers and strings, numbers must be cast to a string so that it can be appended."
   ]
  },
  {
   "cell_type": "code",
   "execution_count": null,
   "metadata": {},
   "outputs": [],
   "source": [
    "a = 1\n",
    "s = 'The number is: '\n",
    "print (s + str(a))"
   ]
  },
  {
   "cell_type": "markdown",
   "metadata": {},
   "source": [
    "Alternatively, `%d` can be used for inserting numbers into strings"
   ]
  },
  {
   "cell_type": "code",
   "execution_count": null,
   "metadata": {},
   "outputs": [],
   "source": [
    "a = 1\n",
    "s = 'The number is: '\n",
    "print ('%s%d' % (s, a))"
   ]
  },
  {
   "cell_type": "markdown",
   "metadata": {},
   "source": [
    "### 1.3 Booleans"
   ]
  },
  {
   "cell_type": "markdown",
   "metadata": {},
   "source": [
    "Python's booleans are capitalised."
   ]
  },
  {
   "cell_type": "code",
   "execution_count": null,
   "metadata": {},
   "outputs": [],
   "source": [
    "t = True\n",
    "f = False\n",
    "print (type(t))"
   ]
  },
  {
   "cell_type": "markdown",
   "metadata": {},
   "source": [
    "You can perform the standard boolean operations on them."
   ]
  },
  {
   "cell_type": "code",
   "execution_count": null,
   "metadata": {},
   "outputs": [],
   "source": [
    "print (t and f) # AND\n",
    "print (t or f)  # OR\n",
    "print (not t)   # NOT\n",
    "print (t != f)  # XOR"
   ]
  },
  {
   "cell_type": "markdown",
   "metadata": {},
   "source": [
    "### 1.4 Lists\n",
    "Lists are Python's equivalent of arrays in many other languages."
   ]
  },
  {
   "cell_type": "code",
   "execution_count": null,
   "metadata": {},
   "outputs": [],
   "source": [
    "l1 = [1, 2, 3]\n",
    "print (l1)\n",
    "print (type(l1))"
   ]
  },
  {
   "cell_type": "markdown",
   "metadata": {},
   "source": [
    "To get the length of a list, use the same function as for strings: `len`."
   ]
  },
  {
   "cell_type": "code",
   "execution_count": null,
   "metadata": {},
   "outputs": [],
   "source": [
    "l1 = [1, 2, 3]\n",
    "print (len(l1))"
   ]
  },
  {
   "cell_type": "markdown",
   "metadata": {},
   "source": [
    "**List indexes**\n",
    "\n",
    "Similar to many other languages, access to an item within a list uses square brackets. The index starts at 0."
   ]
  },
  {
   "cell_type": "code",
   "execution_count": null,
   "metadata": {},
   "outputs": [],
   "source": [
    "l1 = [1, 2, 3]\n",
    "print (l1[0]) # Accessing the value at position 0"
   ]
  },
  {
   "cell_type": "markdown",
   "metadata": {},
   "source": [
    "Python also has a cool feature where you can use a negative index to get an item from the end of a list. `-1` is the last element, `-2` the second last, and so on."
   ]
  },
  {
   "cell_type": "code",
   "execution_count": null,
   "metadata": {},
   "outputs": [],
   "source": [
    "l1 = [1, 2, 3]\n",
    "print (l1[-1]) # Accessing the value at the last position"
   ]
  },
  {
   "cell_type": "markdown",
   "metadata": {},
   "source": [
    "** Modifying lists **\n",
    "\n",
    "In many languages, lists/arrays have a fixed length once set. In Python, lists can be dynamically resized."
   ]
  },
  {
   "cell_type": "code",
   "execution_count": null,
   "metadata": {},
   "outputs": [],
   "source": [
    "l2 = ['hello']\n",
    "l2.append('world')\n",
    "print (l2)"
   ]
  },
  {
   "cell_type": "markdown",
   "metadata": {},
   "source": [
    "Lists can be appended to other lists"
   ]
  },
  {
   "cell_type": "code",
   "execution_count": null,
   "metadata": {},
   "outputs": [],
   "source": [
    "print ([1, 2, 3] + [4, 5, 6])"
   ]
  },
  {
   "cell_type": "markdown",
   "metadata": {},
   "source": [
    "**Types & nested lists**\n",
    "\n",
    "Lists can contain different types of objects"
   ]
  },
  {
   "cell_type": "code",
   "execution_count": null,
   "metadata": {},
   "outputs": [],
   "source": [
    "l3 = [1, 'hello', False]\n",
    "print (l3)"
   ]
  },
  {
   "cell_type": "markdown",
   "metadata": {},
   "source": [
    "Lists can also be nested"
   ]
  },
  {
   "cell_type": "code",
   "execution_count": null,
   "metadata": {},
   "outputs": [],
   "source": [
    "l4 = [\n",
    "    ['oranges', 'bananas'],\n",
    "    ['chocolate', 'crisps', 'cake']\n",
    "]"
   ]
  },
  {
   "cell_type": "markdown",
   "metadata": {},
   "source": [
    "**Splitting lists**\n",
    "\n",
    "Python lists can be split up into \"sub\" lists, for example `[1, 2, 3, 4, 5]` could be split into `[1, 2, 3]` or `[2, 3, 4, 5]` etc.\n",
    "\n",
    "The notation used `[x:y]`, where `x` is the index of the start of the range, and `y` is the index **after** the last item in the range."
   ]
  },
  {
   "cell_type": "code",
   "execution_count": null,
   "metadata": {},
   "outputs": [],
   "source": [
    "l5 = ['a', 'b', 'c', 'd', 'e', 'f']\n",
    "print (l5[0])   # First element of l5\n",
    "print (l5[0:2]) # First two elements of l5\n",
    "print (l5[1:3]) # Second and third elements of l5"
   ]
  },
  {
   "cell_type": "markdown",
   "metadata": {},
   "source": [
    "A blank index on the left of `:` indicates the start of the list (i.e. 0). A blank index on the right indicates the end of the list."
   ]
  },
  {
   "cell_type": "code",
   "execution_count": null,
   "metadata": {},
   "outputs": [],
   "source": [
    "print (l5[:2])  # Alternative notation for first two elements\n",
    "print (l5[1:])  # All elements except for the first\n",
    "print (l5[:])   # All elements of l5"
   ]
  },
  {
   "cell_type": "markdown",
   "metadata": {},
   "source": [
    "Combining this with negative indexes can be very powerful!"
   ]
  },
  {
   "cell_type": "code",
   "execution_count": null,
   "metadata": {},
   "outputs": [],
   "source": [
    "print (l5[:-1]) # All elements except for the last\n",
    "print (l5[-2:]) # The last two elements in the list"
   ]
  },
  {
   "cell_type": "markdown",
   "metadata": {},
   "source": [
    "**Zip**\n",
    "\n",
    "Python has a built-in zip function that pairs up values in multiple lists.\n",
    "\n",
    "For example, zipping the two lists `[1, 2, 3]` and `['a', 'b', 'c']` will result in `[(1, 'a'), (1, 'b'), (3, 'c')]`."
   ]
  },
  {
   "cell_type": "code",
   "execution_count": null,
   "metadata": {},
   "outputs": [],
   "source": [
    "list1 = [1, 2, 3]\n",
    "list2 = ['a', 'b', 'c']\n",
    "print (zip(list1, list2))"
   ]
  },
  {
   "cell_type": "markdown",
   "metadata": {},
   "source": [
    "These values pairs are called **tuples**.\n",
    "\n",
    "can zip together as many lists as you want."
   ]
  },
  {
   "cell_type": "code",
   "execution_count": null,
   "metadata": {},
   "outputs": [],
   "source": [
    "list3 = [10, 11, 12]\n",
    "list4 = [True, True, False]\n",
    "print (zip(list1, list2, list3, list4))"
   ]
  },
  {
   "cell_type": "markdown",
   "metadata": {},
   "source": [
    "You can zip different sizes of lists, but the number of tuples created will only be as many as the shortest list."
   ]
  },
  {
   "cell_type": "code",
   "execution_count": null,
   "metadata": {},
   "outputs": [],
   "source": [
    "list5 = [100, 200, 300, 400]\n",
    "zip(list4, list5)"
   ]
  },
  {
   "cell_type": "markdown",
   "metadata": {},
   "source": [
    "### 1.5 Dictionaries\n",
    "Think of dictionaries like objects with properties. We can create dictionaries in Python using a **key: value** notation."
   ]
  },
  {
   "cell_type": "code",
   "execution_count": null,
   "metadata": {},
   "outputs": [],
   "source": [
    "person = {\n",
    "    'name': 'George',\n",
    "    'age': 21\n",
    "}\n",
    "print person\n",
    "print type(person)\n",
    "\n",
    "print person['name'] # Access the value of the key/property 'name'\n",
    "\n",
    "person['location'] = 'Belfast' # Dictionaries can have new properties added to them\n",
    "print person"
   ]
  },
  {
   "cell_type": "markdown",
   "metadata": {},
   "source": [
    "## 2. Comparisons"
   ]
  },
  {
   "cell_type": "markdown",
   "metadata": {},
   "source": [
    "Python has the usual if/else features.\n",
    "\n",
    "There are a couple of things to note:\n",
    "- The \"else if\" notation is `elif`\n",
    "- In Python we don't use curly brackets. Instead we use colons (:) and indentation. Nested code should be four spaces (or one tab character) to the right of its parent."
   ]
  },
  {
   "cell_type": "markdown",
   "metadata": {},
   "source": [
    "### 2.1 If/Else\n",
    "\n",
    "The following is the general syntax structure for an if/else if/else in Python:"
   ]
  },
  {
   "cell_type": "code",
   "execution_count": null,
   "metadata": {},
   "outputs": [],
   "source": [
    "a = 5\n",
    "if a > 0:\n",
    "    print 'positive'\n",
    "elif a < 0:\n",
    "    print 'negative'\n",
    "else:\n",
    "    'zero'"
   ]
  },
  {
   "cell_type": "markdown",
   "metadata": {},
   "source": [
    "### 2.2 Comparison Operators\n",
    "\n",
    "There are several comparison operators you may need to use for comparing variables to one another."
   ]
  },
  {
   "cell_type": "code",
   "execution_count": null,
   "metadata": {},
   "outputs": [],
   "source": [
    "a = 3\n",
    "b = 5\n",
    "\n",
    "a == b     # Equality\n",
    "a > b      # Greater than\n",
    "a < b      # Less than\n",
    "a >= b     # Greater than or equal to\n",
    "a <= b     # Less than or equal to\n",
    "a != b     # Not equal to\n",
    "a is b     # Alternative equality\n",
    "a is not b # Alternative not equal to"
   ]
  },
  {
   "cell_type": "markdown",
   "metadata": {},
   "source": [
    "For booleans, we don't need to check for equality..."
   ]
  },
  {
   "cell_type": "code",
   "execution_count": null,
   "metadata": {},
   "outputs": [],
   "source": [
    "turned_on = True\n",
    "\n",
    "if turned_on == True:\n",
    "    print 'Turned on'\n",
    "\n",
    "if turned_on:\n",
    "    print 'Turned on'\n",
    "    \n",
    "if not turned_on:\n",
    "    print 'Turned off'"
   ]
  },
  {
   "cell_type": "markdown",
   "metadata": {},
   "source": [
    "### 2.3 Ternary Operators\n",
    "\n",
    "Traditionally if/else statements require multiple lines of code. Python has a very neat feature in which you can have an if/else in a single line! The syntax is quite simple:"
   ]
  },
  {
   "cell_type": "code",
   "execution_count": null,
   "metadata": {},
   "outputs": [],
   "source": [
    "fruit = 'Pear'\n",
    "print 'Yes' if fruit == 'Apple' else 'No'"
   ]
  },
  {
   "cell_type": "markdown",
   "metadata": {},
   "source": [
    "## 3. Loops"
   ]
  },
  {
   "cell_type": "markdown",
   "metadata": {},
   "source": [
    "### 3.1 For Loops\n",
    "\n",
    "Loops in Python use the same colon and indent notation as conditional statements.\n",
    "\n",
    "Python uses `for x in iteratable` syntax, essentially a for each."
   ]
  },
  {
   "cell_type": "code",
   "execution_count": null,
   "metadata": {},
   "outputs": [],
   "source": [
    "# Loops 10 times\n",
    "for i in range(0, 10):\n",
    "    print i"
   ]
  },
  {
   "cell_type": "markdown",
   "metadata": {},
   "source": [
    "**Lists**\n",
    "\n",
    "We can easily iterate over a list. Traditionally in languages like Java we would do the following:"
   ]
  },
  {
   "cell_type": "code",
   "execution_count": null,
   "metadata": {},
   "outputs": [],
   "source": [
    "x = ['green', 'eggs', 'and', 'ham']\n",
    "for i in range(0, len(x)):\n",
    "    print x[i]"
   ]
  },
  {
   "cell_type": "markdown",
   "metadata": {},
   "source": [
    "But there is an easier way to do this in Python:"
   ]
  },
  {
   "cell_type": "code",
   "execution_count": null,
   "metadata": {},
   "outputs": [],
   "source": [
    "x = ['green', 'eggs', 'and', 'ham']\n",
    "for element in x:\n",
    "    print element"
   ]
  },
  {
   "cell_type": "markdown",
   "metadata": {},
   "source": [
    "**Dictionaries**\n",
    "\n",
    "Iterating over dictionary elements is also quite easy and there are a couple of options. The first is as follows:\n",
    "\n",
    "Note that the order is alphabetical based on keys."
   ]
  },
  {
   "cell_type": "code",
   "execution_count": null,
   "metadata": {},
   "outputs": [],
   "source": [
    "shopping_list = {\n",
    "    'milk': 1.2,\n",
    "    'eggs': 0.99,\n",
    "    'bread': 1.39\n",
    "}\n",
    "for item in shopping_list:\n",
    "    cost_string = '{:.2f}'.format(shopping_list[item])\n",
    "    print 'The item \"%s\" costs £%s.'% (item, cost_string)"
   ]
  },
  {
   "cell_type": "markdown",
   "metadata": {},
   "source": [
    "The second option uses the `iteritems` function which gives us direct access to both the key and the value of the given item from the dictionary."
   ]
  },
  {
   "cell_type": "code",
   "execution_count": null,
   "metadata": {},
   "outputs": [],
   "source": [
    "shopping_list = {\n",
    "    'milk': 1.2,\n",
    "    'eggs': 0.99,\n",
    "    'bread': 1.39\n",
    "}\n",
    "for item, price in shopping_list.iteritems():\n",
    "    cost_string = '{:.2f}'.format(price)\n",
    "    print 'The item \"%s\" costs £%s.'% (item, cost_string)"
   ]
  },
  {
   "cell_type": "markdown",
   "metadata": {},
   "source": [
    "### 3.2 While Loops\n",
    "\n",
    "While loops will be familiar syntax..."
   ]
  },
  {
   "cell_type": "code",
   "execution_count": null,
   "metadata": {},
   "outputs": [],
   "source": [
    "i = 0\n",
    "while i < 10:\n",
    "    print i\n",
    "    i += 1"
   ]
  },
  {
   "cell_type": "markdown",
   "metadata": {},
   "source": [
    "### 3.3 Other Iterables\n",
    "\n",
    "In Python it is possible to iterate over other types such as strings:"
   ]
  },
  {
   "cell_type": "code",
   "execution_count": null,
   "metadata": {},
   "outputs": [],
   "source": [
    "s = \"Hello, world!\"\n",
    "for character in s:\n",
    "    print character"
   ]
  },
  {
   "cell_type": "markdown",
   "metadata": {},
   "source": [
    "### 3.4 List Comprehensions\n",
    "\n",
    "Similar to single-line conditional statements in Python, we can run a for loop in a single line. This can be used in the context of lists, as follows:"
   ]
  },
  {
   "cell_type": "code",
   "execution_count": null,
   "metadata": {},
   "outputs": [],
   "source": [
    "numbers = [1, 1, 2, 3, 5, 8, 13]\n",
    "print [number * 2 for number in numbers] # Prints a the numbers list with each number doubled"
   ]
  },
  {
   "cell_type": "markdown",
   "metadata": {},
   "source": [
    "## 4. Functions"
   ]
  },
  {
   "cell_type": "markdown",
   "metadata": {},
   "source": [
    "Functions (also known as methods in other languages) allow us to write a piece of reusable code, reducing duplication and making code easier to read and test.\n",
    "\n",
    "### 4.1 Declaring Functions\n",
    "In Python, functions are declared with the word `def`, followed by the function name, parentheses including parameter names (optional), followed by a colon. The same indentation rules apply as with loops and conditionals."
   ]
  },
  {
   "cell_type": "code",
   "execution_count": null,
   "metadata": {},
   "outputs": [],
   "source": [
    "def say_hello():\n",
    "    print 'hello'"
   ]
  },
  {
   "cell_type": "markdown",
   "metadata": {},
   "source": [
    "Functions are executed the same way as they would in Java:"
   ]
  },
  {
   "cell_type": "code",
   "execution_count": null,
   "metadata": {},
   "outputs": [],
   "source": [
    "say_hello()"
   ]
  },
  {
   "cell_type": "markdown",
   "metadata": {},
   "source": [
    "### 4.2 Parameters\n",
    "\n",
    "As with declaring variables in Python, we don't need to specify the types of parameters in Python. It would make sense to perform validation before executing code on variables passed in, but it is not imperative."
   ]
  },
  {
   "cell_type": "code",
   "execution_count": null,
   "metadata": {},
   "outputs": [],
   "source": [
    "def add(a, b):\n",
    "    result = a + b\n",
    "    return result\n",
    "\n",
    "\n",
    "print add(5, 6)"
   ]
  },
  {
   "cell_type": "markdown",
   "metadata": {},
   "source": [
    "Just to show you another example of parameters, this time a list printing function."
   ]
  },
  {
   "cell_type": "code",
   "execution_count": null,
   "metadata": {},
   "outputs": [],
   "source": [
    "def print_list(their_list):\n",
    "    for item in their_list:\n",
    "        print item\n",
    "\n",
    "\n",
    "print_list(['dog', 'cat', 'bird', 'mouse'])"
   ]
  },
  {
   "cell_type": "markdown",
   "metadata": {},
   "source": [
    "### 4.3 Default Parameters\n",
    "\n",
    "Python has the concept of \"default parameters\". When you write a function, you are able to set a default value for one of the parameters. When the function is called without the parameter specified, the default value will be taken for the execution of the function. To change the value when calling the function, you must specify the name of the parameter and the value you are assigning to it."
   ]
  },
  {
   "cell_type": "code",
   "execution_count": null,
   "metadata": {},
   "outputs": [],
   "source": [
    "def say_hello(loud=False):\n",
    "    if loud:\n",
    "        print 'HELLO'\n",
    "    else:\n",
    "        print 'hello'\n",
    "    return\n",
    "\n",
    "\n",
    "say_hello()\n",
    "say_hello(loud=True)"
   ]
  },
  {
   "cell_type": "markdown",
   "metadata": {},
   "source": [
    "### 4.4 Recursion\n",
    "\n",
    "If you haven't yet come across the concept of recursion, it is essentially when a function references itself, such as in this search algorithm below.\n",
    "\n",
    "Be warned, recursion can quite easily result in an infinite loop!"
   ]
  },
  {
   "cell_type": "code",
   "execution_count": null,
   "metadata": {},
   "outputs": [],
   "source": [
    "def find_int(the_list, int_to_find):\n",
    "    if the_list[0] == int_to_find:\n",
    "        return 0\n",
    "    return 1 + find_int(the_list[1:], int_to_find)"
   ]
  },
  {
   "cell_type": "code",
   "execution_count": null,
   "metadata": {},
   "outputs": [],
   "source": [
    "print find_int([1, 2, 3, 4, 5], 4)"
   ]
  },
  {
   "cell_type": "markdown",
   "metadata": {},
   "source": [
    "### 4.5 Tuples\n",
    "\n",
    "Tuples are groups of two or more values. They are unlike lists in that they provide a structure, while lists provide order. For example:"
   ]
  },
  {
   "cell_type": "code",
   "execution_count": null,
   "metadata": {},
   "outputs": [],
   "source": [
    "val1, val2 = (1, 2)\n",
    "print val1\n",
    "print val2"
   ]
  },
  {
   "cell_type": "code",
   "execution_count": null,
   "metadata": {},
   "outputs": [],
   "source": [
    "val3 = (2, 3)\n",
    "print val3[0]"
   ]
  },
  {
   "cell_type": "markdown",
   "metadata": {},
   "source": [
    "This allows us to create functions that return multiple values at once."
   ]
  },
  {
   "cell_type": "code",
   "execution_count": null,
   "metadata": {},
   "outputs": [],
   "source": [
    "def multiply_and_add(a, b):\n",
    "    multiply = a * b\n",
    "    add = a + b\n",
    "    return multiply, add\n",
    "\n",
    "mult, add = multiply_and_add(25, 35)\n",
    "print mult\n",
    "print add"
   ]
  },
  {
   "cell_type": "markdown",
   "metadata": {},
   "source": [
    "## 5. Libraries"
   ]
  },
  {
   "cell_type": "markdown",
   "metadata": {},
   "source": [
    "Python has a lot of built-in functions, but many are not always available to developers until they are imported from their respective modules.\n",
    "\n",
    "A full list of built-in Python modules can be found here: https://docs.python.org/2/py-modindex.html\n",
    "\n",
    "### 5.1 Importing Modules\n",
    "\n",
    "The syntax for importing modules is: `import <module name>`\n",
    "\n",
    "For example, `datetime` allows us to work with dates and times:"
   ]
  },
  {
   "cell_type": "code",
   "execution_count": null,
   "metadata": {},
   "outputs": [],
   "source": [
    "import datetime\n",
    "print datetime.date.today()"
   ]
  },
  {
   "cell_type": "markdown",
   "metadata": {},
   "source": [
    "We can also import specific parts of a Python module with the `from` syntax:"
   ]
  },
  {
   "cell_type": "code",
   "execution_count": null,
   "metadata": {},
   "outputs": [],
   "source": [
    "from os import getcwd\n",
    "print getcwd() # Prints the current working directory"
   ]
  },
  {
   "cell_type": "markdown",
   "metadata": {
    "collapsed": true
   },
   "source": [
    "Modules can also be renamed:"
   ]
  },
  {
   "cell_type": "code",
   "execution_count": null,
   "metadata": {},
   "outputs": [],
   "source": [
    "from os import popen as run_command\n",
    "print run_command('ls').read()"
   ]
  },
  {
   "cell_type": "markdown",
   "metadata": {},
   "source": [
    "### 5.2 Local/Custom Modules\n",
    "\n",
    "In many applications we write, we want to split our code up into different files. But how do you get access to code in another file?\n",
    "\n",
    "Python is very consistent and lets us import all or part of another Python file. `aicamp.py` is located in the same directory as this notebook. Here's how easy it is to import it and execute a function in it:"
   ]
  },
  {
   "cell_type": "code",
   "execution_count": null,
   "metadata": {},
   "outputs": [],
   "source": [
    "import aicamp\n",
    "aicamp.print_date()"
   ]
  },
  {
   "cell_type": "markdown",
   "metadata": {},
   "source": [
    "** Importing from Another Directory **\n",
    "\n",
    "To import a module from another directory, it gets a little bit more complicated. Here we are going to import `another_module.py` from a directory level with the parent directory.\n",
    "\n",
    "`ai-camp-material/\n",
    "    Excercises/\n",
    "        0/\n",
    "            Python 101.ipynb\n",
    "            aicamp.py\n",
    "        custom_module_example/\n",
    "            another_module.py\n",
    "        ...`"
   ]
  },
  {
   "cell_type": "code",
   "execution_count": null,
   "metadata": {},
   "outputs": [],
   "source": [
    "import sys\n",
    "sys.path.append('../custom_module_example')\n",
    "import another_module\n",
    "another_module.say_hello()"
   ]
  },
  {
   "cell_type": "markdown",
   "metadata": {},
   "source": [
    "### 5.3 External Dependencies\n",
    "\n",
    "There are a plethora of Python modules developed by third parties. The largest repository of these can be found on Pypi (https://pypi.python.org/pypi).\n",
    "\n",
    "** Pip **\n",
    "\n",
    "Python uses `Pip` as its dependency manager. It's very easy to install modules using Pip. If you wanted to install a module named `requests` (a module used for HTTP requests), in the command line we would type:\n",
    "\n",
    "`pip install requests`\n",
    "\n",
    "This would give us access to the requests module from Python, using `import requests`.\n",
    "\n",
    "You can also install a list of requirements from a text file using `pip install -r requirements.txt`.\n",
    "\n",
    "** Anaconda **\n",
    "\n",
    "Anaconda is an alternative package manager that focuses mainly on data science modules. You can read more about it here: https://www.continuum.io/anaconda-overview\n",
    "\n",
    "** Virtual Environments **\n",
    "\n",
    "When working with different projects, you might want to use different versions of certain modules. Virtual environments allow you to isolate dependencies on a project-by-project basis. You can read more about them here: http://docs.python-guide.org/en/latest/dev/virtualenvs/"
   ]
  },
  {
   "cell_type": "markdown",
   "metadata": {},
   "source": [
    "# 6. Miscellaneous\n",
    "\n",
    "There are so many possibilities with Python and you should now be equipped to explore more of its capabilities on your own.\n",
    "\n",
    "Here are a few more miscellaneous things that you may find useful.\n",
    "\n",
    "### 6.1 Exceptions\n",
    "\n",
    "Exceptions occur at runtime when the Python interpreter can't run a piece of code for some reason. It isn't always a bad thing, exceptions should be expected and there are ways to easily handle them.\n",
    "\n",
    "To prevent your program crashing, use a `try:` and `except:` block such as this:"
   ]
  },
  {
   "cell_type": "code",
   "execution_count": null,
   "metadata": {},
   "outputs": [],
   "source": [
    "exception_test = [1, 2, 3]\n",
    "try:\n",
    "    my_val = exception_test[4]\n",
    "except:\n",
    "    print 'There was an error'"
   ]
  },
  {
   "cell_type": "markdown",
   "metadata": {},
   "source": [
    "Quite often we want to be more specific than this generic error. We can actually access details about the error as below:"
   ]
  },
  {
   "cell_type": "code",
   "execution_count": null,
   "metadata": {},
   "outputs": [],
   "source": [
    "exception_test = [1, 2, 3]\n",
    "try:\n",
    "    my_val = exception_test[4]\n",
    "except Exception, e:\n",
    "    print 'Error details:'\n",
    "    print type(e)\n",
    "    print e"
   ]
  },
  {
   "cell_type": "markdown",
   "metadata": {},
   "source": [
    "Here we are using a generic `Exception` type, which will catch all exceptions. This isn't recommended as there may be different exceptions in different scenarios, which will require different ways to handle the situation.\n",
    "\n",
    "You can see all the types of exceptions here: https://docs.python.org/2/library/exceptions.html"
   ]
  },
  {
   "cell_type": "code",
   "execution_count": null,
   "metadata": {},
   "outputs": [],
   "source": [
    "exception_test = [1, 2, 3]\n",
    "try:\n",
    "    my_val = exception_test[4]\n",
    "except IndexError:\n",
    "    print 'Handling index error'\n",
    "except IOError:\n",
    "    print 'Handling IO error'\n",
    "except Error:\n",
    "    print 'Handling all other errors'"
   ]
  },
  {
   "cell_type": "markdown",
   "metadata": {},
   "source": [
    "It's also possiblle in Python to execute code only if there were no exceptions using an `else:` statement:"
   ]
  },
  {
   "cell_type": "code",
   "execution_count": null,
   "metadata": {},
   "outputs": [],
   "source": [
    "try:\n",
    "    print 'Testing'\n",
    "except:\n",
    "    print 'There was an error'\n",
    "else:\n",
    "    print 'There was no error'\n",
    "print 'This will execute either way'"
   ]
  },
  {
   "cell_type": "markdown",
   "metadata": {},
   "source": [
    "**Debugging**\n",
    "\n",
    "If you ever need to use a debugger in a Python notebook, it is a little bit awkward, but `Pdb` is the way to go.\n",
    "\n",
    "`debug.set_trace()` will allow you to create a breakpoint in your code."
   ]
  },
  {
   "cell_type": "code",
   "execution_count": null,
   "metadata": {},
   "outputs": [],
   "source": [
    "from IPython.core.debugger import Pdb\n",
    "debug = Pdb()\n",
    "def add(var1, var2):\n",
    "    debug.set_trace() # Create a breakpoint\n",
    "    result = var1 + var2\n",
    "    return result"
   ]
  },
  {
   "cell_type": "markdown",
   "metadata": {},
   "source": [
    "Run the `add` function, and a console will allow you to interact with the variables at run time. Try running it and typing in one of the variable names.\n",
    "\n",
    "`h` will give you a list of commands, while `c` will kill it."
   ]
  },
  {
   "cell_type": "code",
   "execution_count": null,
   "metadata": {},
   "outputs": [],
   "source": [
    "add(1, 2)"
   ]
  },
  {
   "cell_type": "markdown",
   "metadata": {},
   "source": [
    "Just to show the code that would need to be added to a vanilla Python function to add debugging. The added lines are commented out below."
   ]
  },
  {
   "cell_type": "code",
   "execution_count": null,
   "metadata": {},
   "outputs": [],
   "source": [
    "#from IPython.core.debugger import Pdb\n",
    "#debug = Pdb()\n",
    "def add(var1, var2):\n",
    "#    debug.set_trace() # Create a breakpoint\n",
    "    result = var1 + var2\n",
    "    return result"
   ]
  },
  {
   "cell_type": "markdown",
   "metadata": {},
   "source": [
    "### 6.2 Reading and Writing Files\n",
    "\n",
    "** Writing**\n",
    "\n",
    "We use the `open` function in Python to open files. Below we open `test.txt` in the `w` mode, which stands for \"write\". This will allow you to write to the file, and create it if it doesn't already exist.\n",
    "\n",
    "Don't forget to `close` the file once finished with it."
   ]
  },
  {
   "cell_type": "code",
   "execution_count": null,
   "metadata": {},
   "outputs": [],
   "source": [
    "new_file = open('test.txt', 'w')\n",
    "new_file.write('Hello, world!')\n",
    "new_file.close()"
   ]
  },
  {
   "cell_type": "markdown",
   "metadata": {},
   "source": [
    "** Reading **\n",
    "\n",
    "For reading we also use `open`, but this time we specify the `r` mode, which stands for \"read\". We can now read the contents of the file."
   ]
  },
  {
   "cell_type": "code",
   "execution_count": null,
   "metadata": {},
   "outputs": [],
   "source": [
    "input_file = open('test.txt', 'r')\n",
    "print input_file.read()\n",
    "input_file.close()"
   ]
  },
  {
   "cell_type": "markdown",
   "metadata": {},
   "source": [
    "** CSV Files **\n",
    "\n",
    "It's likely that you'll need to read a CSV file and get access to the data within it. We are going to use the Pandas module to import and read data from `data.csv`, a CSV file downloaded from the Open Data NI portal (https://www.opendatani.gov.uk/dataset/nihpi-by-propertytype)."
   ]
  },
  {
   "cell_type": "code",
   "execution_count": null,
   "metadata": {},
   "outputs": [],
   "source": [
    "import pandas\n",
    "data = pandas.read_csv('data.csv')\n",
    "data.head()             # Displays first five rows from data\n",
    "data['Quarter Year']    # Displays all data from the 'Quarter Year' column\n",
    "data['Quarter Year'][0] # Displays first row from the 'Quarter Year' column\n",
    "data.describe()         # Displays a summary of numeric data"
   ]
  },
  {
   "cell_type": "markdown",
   "metadata": {},
   "source": [
    "We can easily create new rows based on other rows using the `apply` function, passing in another function which is executed on each value."
   ]
  },
  {
   "cell_type": "code",
   "execution_count": null,
   "metadata": {},
   "outputs": [],
   "source": [
    "def double(row):\n",
    "    return row * 2\n",
    "\n",
    "data['Residential x2'] = data['NI Residential Property Price Index'].apply(double)\n",
    "\n",
    "data"
   ]
  },
  {
   "cell_type": "markdown",
   "metadata": {},
   "source": [
    "### 6.3 Data Visualisation\n",
    "\n",
    "When it comes to machine learning, we're going to be doing quite a lot of visualisation of data, to help us get a better understanding of what's going on. Matplotlib is a graphing library that we will use to plot graphs from data.\n",
    "\n",
    "Below is a simple example of plotting `[2, 4, 5, 8]` (y-axis) against `[1, 2, 3, 4]` (x-axis)."
   ]
  },
  {
   "cell_type": "code",
   "execution_count": null,
   "metadata": {},
   "outputs": [],
   "source": [
    "# For notebooks, we have to include this line to allow graphs to display in the notebook\n",
    "%matplotlib inline\n",
    "\n",
    "import matplotlib.pyplot as plt\n",
    "plt.plot([1, 2, 3, 4], [2, 4, 5, 8])\n",
    "plt.ylabel('y-axis')\n",
    "plt.xlabel('x-axis')\n",
    "plt.show()"
   ]
  },
  {
   "cell_type": "markdown",
   "metadata": {},
   "source": [
    "Let's try this out on something more meaningful. Using the CSV file from before, we want to try and see how the values have changed over time.\n",
    "\n",
    "The problem is, our time column (Quarter Year) isn't numeric. We need to clean this up so that it's something like `2005.25` rather than `Q2 2005`. We can use the `apply` function to do this.\n",
    "\n",
    "Note that this is an example of Feature Engineering!"
   ]
  },
  {
   "cell_type": "code",
   "execution_count": null,
   "metadata": {},
   "outputs": [],
   "source": [
    "import pandas\n",
    "data = pandas.read_csv('data.csv')\n",
    "\n",
    "def clean_year(row):\n",
    "    components = row.split(' ') # e.g. splits 'Q1 2005' into ['Q1', '2005']\n",
    "    year = int(components[1]) # Converts year from a string to an int\n",
    "    quarter = int(components[0][1]) # Removes the 'Q' from the quarter (e.g. Q1 -> 1)\n",
    "    decimal_quarter = (quarter - 1) * 0.25 # Q1 -> 0.0, Q2 -> 0.25 etc\n",
    "    return str(year + decimal_quarter)\n",
    "\n",
    "data['clean_year'] = data['Quarter Year'].apply(clean_year)"
   ]
  },
  {
   "cell_type": "markdown",
   "metadata": {},
   "source": [
    "Now we can nicely plot the Price Index against time."
   ]
  },
  {
   "cell_type": "code",
   "execution_count": null,
   "metadata": {},
   "outputs": [],
   "source": [
    "plt.plot(data['clean_year'], data['NI Residential Property Price Index'])\n",
    "plt.ylabel('NI Residential Property Price Index')\n",
    "plt.xlabel('Year')\n",
    "plt.show()"
   ]
  },
  {
   "cell_type": "markdown",
   "metadata": {},
   "source": [
    "It's also possible to plot multiple lines on a single graph, and provide a legend as below:"
   ]
  },
  {
   "cell_type": "code",
   "execution_count": null,
   "metadata": {},
   "outputs": [],
   "source": [
    "plt.plot(data['clean_year'], data['NI Detached Property Price Index'])\n",
    "plt.plot(data['clean_year'], data['NI SemiDetached Property Price Index'])\n",
    "plt.plot(data['clean_year'], data['NI Terrace Property Price Index'])\n",
    "plt.plot(data['clean_year'], data['NI Apartment Price Index'])\n",
    "plt.plot(data['clean_year'], data['NI Residential Property Price Index'])\n",
    "\n",
    "plt.legend([\n",
    "        'Detached',\n",
    "        'SemiDetached',\n",
    "        'Terrace',\n",
    "        'Apartment',\n",
    "        'Residential'\n",
    "    ])\n",
    "plt.xlabel('Year')\n",
    "\n",
    "plt.show()"
   ]
  },
  {
   "cell_type": "markdown",
   "metadata": {},
   "source": [
    "### 6.4 HTTP Requests"
   ]
  },
  {
   "cell_type": "markdown",
   "metadata": {},
   "source": [
    "Being able to perform HTTP requests is really handy, especially if you are integrating with an API.\n",
    "\n",
    "If you want to learn more about HTTP requests in general, read up about them here: https://code.tutsplus.com/tutorials/http-the-protocol-every-web-developer-must-know-part-1--net-31177\n",
    "\n",
    "** GET **\n",
    "\n",
    "The `requests` library makes it very easy to perform the likes of GET requests:"
   ]
  },
  {
   "cell_type": "code",
   "execution_count": null,
   "metadata": {},
   "outputs": [],
   "source": [
    "import requests\n",
    "\n",
    "r = requests.get('https://www.google.com/')\n",
    "print r.status_code"
   ]
  },
  {
   "cell_type": "markdown",
   "metadata": {},
   "source": [
    "** POST **\n",
    "\n",
    "Similarly, it allows you to POST data to a server. http://httpbin.org provides endpoints to test requests on."
   ]
  },
  {
   "cell_type": "code",
   "execution_count": null,
   "metadata": {},
   "outputs": [],
   "source": [
    "data = {\n",
    "    'name': 'Jo',\n",
    "    'camp': 'A.I.Camp'\n",
    "}\n",
    "r = requests.post('http://httpbin.org/post', data)\n",
    "print r.json()"
   ]
  },
  {
   "cell_type": "markdown",
   "metadata": {},
   "source": [
    "** API **\n",
    "\n",
    "The below might be even more useful. This is how easy it is to request data from an API, ready for manipulation!"
   ]
  },
  {
   "cell_type": "code",
   "execution_count": null,
   "metadata": {},
   "outputs": [],
   "source": [
    "import json\n",
    "\n",
    "r = requests.get('https://www.opendatani.gov.uk/api/action/datastore_search?resource_id=b47a047d-5ed1-41ea-af13-2954b4a2bd92')\n",
    "data = r.json() # Get the JSON data that was returned by the API\n",
    "records_json = json.dumps(data['result']['records']) ## Get the data we are interested in, and get it into a nice format\n",
    "\n",
    "pandas.read_json(records_json) # "
   ]
  },
  {
   "cell_type": "markdown",
   "metadata": {},
   "source": [
    "### 6.5 Numpy\n",
    "\n",
    "We'll be using Numpy from time to time in A.I.Camp. It's basically a library that gives you powerful access over multi-dimensional arrays. This will be particularly useful for vision processing when we want to represent and image in numerical form.\n",
    "\n",
    "There's not a lot to it, but you can read more about it here: https://docs.scipy.org/doc/numpy-dev/user/quickstart.html\n",
    "\n",
    "Below we create a Numpy array of numbers from 1 to 10."
   ]
  },
  {
   "cell_type": "code",
   "execution_count": null,
   "metadata": {},
   "outputs": [],
   "source": [
    "import numpy as np\n",
    "\n",
    "numpy_test = np.arange(1, 11)\n",
    "print numpy_test"
   ]
  },
  {
   "cell_type": "markdown",
   "metadata": {},
   "source": [
    "Numpy has several built-in manipulation functions, including `reshape(x,y)`, where `x` is the number of rows and `y` is the number of columns. The product of x and y must equal the product of the rows and columns of the orginal array."
   ]
  },
  {
   "cell_type": "code",
   "execution_count": null,
   "metadata": {},
   "outputs": [],
   "source": [
    "numpy_test.reshape(2,5)"
   ]
  },
  {
   "cell_type": "markdown",
   "metadata": {},
   "source": [
    "We can also specify the step size as a third parameter in `arange`."
   ]
  },
  {
   "cell_type": "code",
   "execution_count": null,
   "metadata": {},
   "outputs": [],
   "source": [
    "numpy_test = np.arange(0, 10, 0.5)\n",
    "print numpy_test"
   ]
  },
  {
   "cell_type": "code",
   "execution_count": null,
   "metadata": {},
   "outputs": [],
   "source": []
  }
 ],
 "metadata": {
  "kernelspec": {
   "display_name": "Python 3",
   "language": "python",
   "name": "python3"
  },
  "language_info": {
   "codemirror_mode": {
    "name": "ipython",
    "version": 3
   },
   "file_extension": ".py",
   "mimetype": "text/x-python",
   "name": "python",
   "nbconvert_exporter": "python",
   "pygments_lexer": "ipython3",
   "version": "3.6.4"
  }
 },
 "nbformat": 4,
 "nbformat_minor": 1
}
